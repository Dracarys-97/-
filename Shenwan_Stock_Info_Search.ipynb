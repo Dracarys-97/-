{
 "cells": [
  {
   "cell_type": "code",
   "execution_count": 1,
   "metadata": {
    "ExecuteTime": {
     "end_time": "2021-01-29T14:59:18.790108Z",
     "start_time": "2021-01-29T14:59:16.390432Z"
    }
   },
   "outputs": [
    {
     "name": "stdout",
     "output_type": "stream",
     "text": [
      "初始化中…大约需要5s时间\n",
      "初始化成功！\n"
     ]
    }
   ],
   "source": [
    "print('初始化中…大约需要5s时间')\n",
    "# 导入模块\n",
    "try:\n",
    "    import numpy as np\n",
    "except ModuleNotFoundError:\n",
    "    print('找不到numpy模块，请安装numpy模块后再试')\n",
    "\n",
    "try:\n",
    "    import pandas as pd\n",
    "except ModuleNotFoundError:\n",
    "    print('找不到pandas模块，请安装pandas模块后再试')\n",
    "\n",
    "    \n",
    "# 加载索引文件\n",
    "try:\n",
    "    fund_reference = pd.read_excel('./原始数据/索引.xlsx', sheet_name = '基金索引')\n",
    "    stock_reference = pd.read_excel('./原始数据/索引.xlsx', sheet_name = '股票索引')\n",
    "except FileNotFoundError:\n",
    "    print('初始化失败。请检查索引文件是否在文件夹下')\n",
    "else:\n",
    "    print('初始化成功！')\n",
    "    \n",
    "# 这个代码是关掉一个警告\n",
    "# 虽然有警告，但是实际不影响使用\n",
    "# 不得已而为之……还是要找到原因，解决警告\n",
    "pd.set_option('mode.chained_assignment', None)"
   ]
  },
  {
   "cell_type": "code",
   "execution_count": 18,
   "metadata": {
    "ExecuteTime": {
     "end_time": "2021-01-29T15:33:25.596367Z",
     "start_time": "2021-01-29T15:33:08.458762Z"
    }
   },
   "outputs": [
    {
     "name": "stdout",
     "output_type": "stream",
     "text": [
      "请输入报告期2020\n",
      "导入数据成功！\n"
     ]
    }
   ],
   "source": [
    "# 基础查询功能\n",
    "\n",
    "def stock_code(): # 股票名 → 股票代码\n",
    "    try:\n",
    "        name = input('请输入准确的股票名')\n",
    "        print('您查找的名为' + name + '的股票代码为：' + stock_reference.loc[stock_reference['证券简称'] == name]['证券代码'].values[0])\n",
    "    except IndexError:\n",
    "        print('您查找的股票名不存在，请检查后再试')\n",
    "\n",
    "def stock_name(): # 股票代码 → 股票名\n",
    "    try:\n",
    "        code = input('请输入准确的股票名')\n",
    "        print('您查找的代码为' + code + '的股票名为：' + stock_reference.loc[stock_reference['证券代码'] == code]['证券简称'].values[0])\n",
    "    except IndexError:\n",
    "        print('您查找的股票代码不存在，请检查后再试')\n",
    "    \n",
    "def fund_name(): # 基金代码 → 基金名\n",
    "    try:\n",
    "        code = input('请输入准确的基金代码')\n",
    "        print('您查找的代码为' + code + '的基金名为：' + fund_reference.loc[fund_reference['基金代码'] == code]['基金简称'].values[0])\n",
    "    except IndexError:\n",
    "        print('您查找的基金代码不存在，请检查后再试')\n",
    "\n",
    "year = input('请输入报告期')\n",
    "\n",
    "def load_data(year=year):\n",
    "    try:\n",
    "        data = pd.read_csv('./原始数据/' + year + '.csv')\n",
    "    except FileNotFoundError:\n",
    "        print('不存在此文件，请检查后再次输入')\n",
    "    else:\n",
    "        print('请稍等，正在导入数据。大约需要30s')\n",
    "        pieces = dict(list(data.groupby(['stock_code', 'fund_code'])))\n",
    "        return data, pieces\n",
    "\n",
    "if year == '2018':\n",
    "    data, pieces = load_data()\n",
    "else:\n",
    "    data = pd.read_csv('./原始数据/' + year + '.csv')\n",
    "print('导入数据成功！')"
   ]
  },
  {
   "cell_type": "code",
   "execution_count": 20,
   "metadata": {
    "ExecuteTime": {
     "end_time": "2021-01-29T15:41:53.825346Z",
     "start_time": "2021-01-29T15:41:53.791344Z"
    }
   },
   "outputs": [],
   "source": [
    "# 股票类\n",
    "class Stock():\n",
    "    def __init__(self):\n",
    "        try:\n",
    "            self.code = input('请输入证券代码')\n",
    "            self.name = stock_reference.loc[stock_reference['证券代码'] == self.code]['证券简称'].values[0]\n",
    "        except IndexError:\n",
    "            print('不存在此证券代码，请重试')\n",
    "            return\n",
    "        self.year = year\n",
    "        print('成功实例化' + self.name + '!')\n",
    "        \n",
    "    def search_section(self): # 查询截面数据\n",
    "        if not data[(data['stock_code'] == self.code)].isnull().any().any():\n",
    "            try:\n",
    "                name_1 = stock_reference.loc[stock_reference['证券代码'] == self.code]['证券简称'].values[0]\n",
    "            except IndexError:\n",
    "                print(\"查询失败，可能是以下两种情况：\")\n",
    "                print('1. 股票代码不存在。请重新输入股票代码self.code = \"正确的代码\" 以纠正该错误。')\n",
    "                print('2. 该季度无公募基金持仓该股票')\n",
    "                return\n",
    "        data1 = data[(data['stock_code'] == self.code)].copy()\n",
    "        data1.sort_values(by='stock_value', inplace=True, ascending=False)\n",
    "        data2 = data[(data['stock_code'] == self.code)&(data['season'] == 1)].copy()\n",
    "        data3 = data[(data['stock_code'] == self.code)&(data['season'] == 2)].copy()\n",
    "        data4 = data[(data['stock_code'] == self.code)&(data['season'] == 3)].copy()\n",
    "        data5 = data[(data['stock_code'] == self.code)&(data['season'] == 4)].copy()\n",
    "        # 写入\n",
    "        with pd.ExcelWriter(r'./生成的查询数据/'+ self.year + '年各' + self.name + '公募基金持仓截面数据.xlsx') as writer:\n",
    "            data1.to_excel(writer,index = False, sheet_name='总表')\n",
    "            data2.to_excel(writer,index = False, sheet_name='一季度')\n",
    "            data3.to_excel(writer,index = False, sheet_name='二季度')\n",
    "            data4.to_excel(writer,index = False, sheet_name='三季度')\n",
    "            data5.to_excel(writer,index = False, sheet_name='四季度')\n",
    "        print('结果已保存至程序文件夹下，结果按持仓市值排序。')\n",
    "    \n",
    "    def search_change(self): # 查询变化\n",
    "        global data\n",
    "        global pieces\n",
    "        # 要改成第一年和其他年不一样，跨年的地方要修缮\n",
    "        data1 = pd.DataFrame(np.random.randn(1, 8), \n",
    "                            columns=['fund_code', '基金名', 'season', 'stock_code', 'stock_value', 'stock_num',\n",
    "                                    '加仓市值', '加仓数量'\n",
    "                                    ])\n",
    "                            \n",
    "        # 辅助函数\n",
    "        def calculate_change(value):\n",
    "            for i in range(4):\n",
    "                if i == 0:\n",
    "                    continue\n",
    "                else:\n",
    "                    value['加仓数量'][i] = value['stock_num'][i] - value['stock_num'][i-1]\n",
    "                    value['加仓市值'][i] = value['stock_value'][i] - value['stock_value'][i-1]\n",
    "            value.drop(value[value['加仓市值'] == 0].index, inplace=True)\n",
    "\n",
    "            \n",
    "            \n",
    "        '''-------主函数--------'''\n",
    "        print('正在查询中，请稍等片刻')\n",
    "        # 如果是第一年，则不需要2018年第一季度\n",
    "        if self.year == '2018':\n",
    "            for key, value in pieces.items():\n",
    "                if key[0] != self.code: # 查找的数据不是这只股票就跳过\n",
    "                    continue\n",
    "                # 填充不存在的季度为0\n",
    "                for i in range(1, 5): # 一年四季\n",
    "                    if i not in list(value['season']):\n",
    "                        now = value.iloc[[0]].copy()\n",
    "                        now['season'] = i\n",
    "                        now['stock_num'] = 0\n",
    "                        now['stock_value'] = 0\n",
    "                        value = pd.concat([value, now], ignore_index=True)\n",
    "                value.sort_values(by='season', inplace=True)\n",
    "                value.index = [0,1,2,3]\n",
    "                value['加仓数量'] = 0\n",
    "                value['加仓市值'] = 0\n",
    "                for i in range(4):\n",
    "                    if i == 0:\n",
    "                        continue\n",
    "                    else:\n",
    "                        value['加仓数量'][i] = value['stock_num'][i] - value['stock_num'][i-1]\n",
    "                        value['加仓市值'][i] = value['stock_value'][i] - value['stock_value'][i-1]\n",
    "                value.drop(value[value['加仓市值'] == 0].index, inplace=True)\n",
    "\n",
    "                # 缝合\n",
    "                data1 = pd.concat([data1, value], ignore_index=True) \n",
    "\n",
    "            data1.drop(0, inplace=True)# 把一开始创建的第一行删掉\n",
    "            data1.drop(data1[data1['season'] == 1].index, inplace=True) # 把第一季度删掉\n",
    "            # 排序\n",
    "            data1.sort_values(by=['season','加仓数量'], ascending=False, inplace=True) \n",
    "            data2 = data1[data1['season'] == 2].copy().sort_values(by='加仓数量', ascending=False)\n",
    "            data3 = data1[data1['season'] == 3].copy().sort_values(by='加仓数量', ascending=False)\n",
    "            data4 = data1[data1['season'] == 4].copy().sort_values(by='加仓数量', ascending=False)\n",
    "            # 写入文件中\n",
    "            with pd.ExcelWriter(r'./生成的查询数据/'+ self.year + '年各季度' + self.name + '公募基金持仓变化情况.xlsx') as writer:\n",
    "                data1.to_excel(writer, index = False, sheet_name='总表')\n",
    "                data2.to_excel(writer, index=False, sheet_name='二季度')\n",
    "                data3.to_excel(writer, index=False, sheet_name='三季度')\n",
    "                data4.to_excel(writer, index=False, sheet_name='四季度')\n",
    "\n",
    "            print('结果已保存至程序文件夹下')\n",
    "        \n",
    "        # 查询的若不是第一年，则需要加上前一年第四季度的数据来计算\n",
    "        else:\n",
    "            prev_year = str(int(year)-1)\n",
    "            prev_data = pd.read_csv('./原始数据/' + prev_year + '.csv')\n",
    "            prev = prev_data[prev_data['season'] == 4].copy()\n",
    "            prev['season'] = 0\n",
    "            data = pd.concat([data,prev], ignore_index=True)\n",
    "            pieces = dict(list(data.groupby(['stock_code', 'fund_code'])))\n",
    "            for key, value in pieces.items():\n",
    "                if key[0] != self.code: # 查找的数据不是这只股票就跳过\n",
    "                    continue\n",
    "                # 填充不存在的季度为0\n",
    "                for i in range(0, 5): # 非第一年的有点特殊，我的处理方法是，在2019年加入了第0季，表示2018年第4季度\n",
    "                    if i not in list(value['season']): # 如果有季度没有持仓，则创建一条为0的记录\n",
    "                        now = value.iloc[[0]].copy()\n",
    "                        now['season'] = i\n",
    "                        now['stock_num'] = 0\n",
    "                        now['stock_value'] = 0\n",
    "                        value = pd.concat([value, now], ignore_index=True)\n",
    "                value.sort_values(by='season', inplace=True)\n",
    "                value.index = [0,1,2,3,4]\n",
    "                value['加仓数量'] = 0\n",
    "                value['加仓市值'] = 0\n",
    "                for i in range(5):\n",
    "                    if i == 0:\n",
    "                        continue\n",
    "                    else:\n",
    "                        value['加仓数量'][i] = value['stock_num'][i] - value['stock_num'][i-1]\n",
    "                        value['加仓市值'][i] = value['stock_value'][i] - value['stock_value'][i-1]\n",
    "                value.drop(value[value['加仓市值'] == 0].index, inplace=True)\n",
    "\n",
    "                # 缝合\n",
    "                data1 = pd.concat([data1, value], ignore_index=True) \n",
    "\n",
    "            data1.drop(0, inplace=True)# 把一开始创建的第一行删掉\n",
    "            data1.drop(data1[data1['season'] == 0].index, inplace=True) # 把上一年的第四季度删掉\n",
    "            # 排序\n",
    "            data1.sort_values(by=['season','加仓数量'], ascending=False, inplace=True) \n",
    "            data5 = data1[data1['season'] == 1].copy().sort_values(by='加仓数量', ascending=False)\n",
    "            data2 = data1[data1['season'] == 2].copy().sort_values(by='加仓数量', ascending=False)\n",
    "            data3 = data1[data1['season'] == 3].copy().sort_values(by='加仓数量', ascending=False)\n",
    "            data4 = data1[data1['season'] == 4].copy().sort_values(by='加仓数量', ascending=False)\n",
    "\n",
    "            # 写入文件中\n",
    "            with pd.ExcelWriter(r'./生成的查询数据/'+ self.year + '年各季度' + self.name + '公募基金持仓变化情况.xlsx') as writer:\n",
    "                data1.to_excel(writer, index = False, sheet_name='总表')\n",
    "                data5.to_excel(writer, index = False, sheet_name='一季度')\n",
    "                data2.to_excel(writer, index=False, sheet_name='二季度')\n",
    "                data3.to_excel(writer, index=False, sheet_name='三季度')\n",
    "                data4.to_excel(writer, index=False, sheet_name='四季度')\n",
    "\n",
    "            print('结果已保存至程序文件夹下')\n",
    "        '''------主函数结束------'''"
   ]
  },
  {
   "cell_type": "code",
   "execution_count": 21,
   "metadata": {
    "ExecuteTime": {
     "end_time": "2021-01-29T15:41:57.903487Z",
     "start_time": "2021-01-29T15:41:54.961196Z"
    }
   },
   "outputs": [
    {
     "name": "stdout",
     "output_type": "stream",
     "text": [
      "请输入证券代码000002.SZ\n",
      "成功实例化万科A!\n"
     ]
    }
   ],
   "source": [
    "stock = Stock()"
   ]
  },
  {
   "cell_type": "code",
   "execution_count": 16,
   "metadata": {
    "ExecuteTime": {
     "end_time": "2021-01-29T15:28:30.966826Z",
     "start_time": "2021-01-29T15:28:30.297419Z"
    }
   },
   "outputs": [
    {
     "name": "stdout",
     "output_type": "stream",
     "text": [
      "结果已保存至程序文件夹下，结果按持仓市值排序。\n"
     ]
    }
   ],
   "source": [
    "stock.search_section()"
   ]
  },
  {
   "cell_type": "code",
   "execution_count": 29,
   "metadata": {
    "ExecuteTime": {
     "end_time": "2021-01-29T15:51:45.619504Z",
     "start_time": "2021-01-29T15:51:30.531834Z"
    }
   },
   "outputs": [
    {
     "name": "stdout",
     "output_type": "stream",
     "text": [
      "正在查询中，请稍等片刻\n",
      "结果已保存至程序文件夹下\n"
     ]
    }
   ],
   "source": [
    "stock.search_change()"
   ]
  },
  {
   "cell_type": "code",
   "execution_count": 46,
   "metadata": {
    "ExecuteTime": {
     "end_time": "2021-01-29T13:49:44.501525Z",
     "start_time": "2021-01-29T13:49:44.495451Z"
    }
   },
   "outputs": [],
   "source": [
    "# 修改报告期的模板代码\n",
    "''' 模板开始-------------------------\n",
    "\n",
    "# 引号不能省略\n",
    "year = '2018'\n",
    "# 载入新数据集\n",
    "#data = pd.read_csv('./原始数据/' + year + '.csv') # 切换至2019、2020年，请使用这行代码\n",
    "data, pieces = load_data()                        # 切换至2018年，请使用这行代码\n",
    "# 重新创建股票实例\n",
    "stock = Stock()\n",
    "\n",
    "模板结束------------------------- '''"
   ]
  },
  {
   "cell_type": "code",
   "execution_count": null,
   "metadata": {},
   "outputs": [],
   "source": []
  }
 ],
 "metadata": {
  "kernelspec": {
   "display_name": "Python 3",
   "language": "python",
   "name": "python3"
  },
  "language_info": {
   "codemirror_mode": {
    "name": "ipython",
    "version": 3
   },
   "file_extension": ".py",
   "mimetype": "text/x-python",
   "name": "python",
   "nbconvert_exporter": "python",
   "pygments_lexer": "ipython3",
   "version": "3.8.3"
  }
 },
 "nbformat": 4,
 "nbformat_minor": 4
}
